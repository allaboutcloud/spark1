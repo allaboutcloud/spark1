{
 "cells": [
  {
   "cell_type": "code",
   "execution_count": 1,
   "id": "08f27bc2",
   "metadata": {},
   "outputs": [
    {
     "data": {
      "text/html": [
       "Current session configs: <tt>{'proxyUser': 'assumed-role_FullAdmin_Indrajit_Singh2_Vodafone_com', 'conf': {'spark.pyspark.python': 'python3', 'spark.pyspark.virtualenv.enabled': 'true', 'spark.pyspark.virtualenv.type': 'native', 'spark.pyspark.virtualenv.bin.path': '/usr/bin/virtualenv'}, 'kind': 'pyspark'}</tt><br>"
      ],
      "text/plain": [
       "<IPython.core.display.HTML object>"
      ]
     },
     "metadata": {},
     "output_type": "display_data"
    },
    {
     "data": {
      "text/html": [
       "No active sessions."
      ],
      "text/plain": [
       "<IPython.core.display.HTML object>"
      ]
     },
     "metadata": {},
     "output_type": "display_data"
    }
   ],
   "source": [
    "%%info"
   ]
  },
  {
   "cell_type": "code",
   "execution_count": 1,
   "id": "d544a6c0",
   "metadata": {},
   "outputs": [
    {
     "data": {
      "application/vnd.jupyter.widget-view+json": {
       "model_id": "0b4245989b2c4f26b8f4bc2b8ed30bb4",
       "version_major": 2,
       "version_minor": 0
      },
      "text/plain": [
       "VBox()"
      ]
     },
     "metadata": {},
     "output_type": "display_data"
    },
    {
     "name": "stdout",
     "output_type": "stream",
     "text": [
      "Starting Spark application\n"
     ]
    },
    {
     "data": {
      "text/html": [
       "<table>\n",
       "<tr><th>ID</th><th>YARN Application ID</th><th>Kind</th><th>State</th><th>Spark UI</th><th>Driver log</th><th>Current session?</th></tr><tr><td>7</td><td>application_1633282985681_0005</td><td>pyspark</td><td>idle</td><td></td><td></td><td>✔</td></tr></table>"
      ],
      "text/plain": [
       "<IPython.core.display.HTML object>"
      ]
     },
     "metadata": {},
     "output_type": "display_data"
    },
    {
     "data": {
      "application/vnd.jupyter.widget-view+json": {
       "model_id": "",
       "version_major": 2,
       "version_minor": 0
      },
      "text/plain": [
       "FloatProgress(value=0.0, bar_style='info', description='Progress:', layout=Layout(height='25px', width='50%'),…"
      ]
     },
     "metadata": {},
     "output_type": "display_data"
    },
    {
     "name": "stdout",
     "output_type": "stream",
     "text": [
      "SparkSession available as 'spark'.\n"
     ]
    },
    {
     "data": {
      "application/vnd.jupyter.widget-view+json": {
       "model_id": "",
       "version_major": 2,
       "version_minor": 0
      },
      "text/plain": [
       "FloatProgress(value=0.0, bar_style='info', description='Progress:', layout=Layout(height='25px', width='50%'),…"
      ]
     },
     "metadata": {},
     "output_type": "display_data"
    }
   ],
   "source": [
    "from pyspark.sql import SparkSession"
   ]
  },
  {
   "cell_type": "code",
   "execution_count": 2,
   "id": "0a4587b0",
   "metadata": {},
   "outputs": [
    {
     "name": "stdout",
     "output_type": "stream",
     "text": [
      "Starting Spark application\n"
     ]
    },
    {
     "name": "stderr",
     "output_type": "stream",
     "text": [
      "The code failed because of a fatal error:\n",
      "\tSession 5 unexpectedly reached final status 'dead'. See logs:\n",
      "stdout: \n",
      "\n",
      "stderr: \n",
      "Exception in thread \"main\" java.lang.IllegalArgumentException: requirement failed: Provided Maven Coordinates must be in the form 'groupId:artifactId:version'. The coordinate provided is: /usr/lib/spark/jars/delta-core_2.11-0.6.1\n",
      "\tat scala.Predef$.require(Predef.scala:224)\n",
      "\tat org.apache.spark.deploy.SparkSubmitUtils$$anonfun$extractMavenCoordinates$1.apply(SparkSubmit.scala:1022)\n",
      "\tat org.apache.spark.deploy.SparkSubmitUtils$$anonfun$extractMavenCoordinates$1.apply(SparkSubmit.scala:1020)\n",
      "\tat scala.collection.TraversableLike$$anonfun$map$1.apply(TraversableLike.scala:234)\n",
      "\tat scala.collection.TraversableLike$$anonfun$map$1.apply(TraversableLike.scala:234)\n",
      "\tat scala.collection.IndexedSeqOptimized$class.foreach(IndexedSeqOptimized.scala:33)\n",
      "\tat scala.collection.mutable.ArrayOps$ofRef.foreach(ArrayOps.scala:186)\n",
      "\tat scala.collection.TraversableLike$class.map(TraversableLike.scala:234)\n",
      "\tat scala.collection.mutable.ArrayOps$ofRef.map(ArrayOps.scala:186)\n",
      "\tat org.apache.spark.deploy.SparkSubmitUtils$.extractMavenCoordinates(SparkSubmit.scala:1020)\n",
      "\tat org.apache.spark.deploy.SparkSubmitUtils$.resolveMavenCoordinates(SparkSubmit.scala:1268)\n",
      "\tat org.apache.spark.deploy.DependencyUtils$.resolveMavenDependencies(DependencyUtils.scala:54)\n",
      "\tat org.apache.spark.deploy.SparkSubmit.prepareSubmitEnvironment(SparkSubmit.scala:304)\n",
      "\tat org.apache.spark.deploy.SparkSubmit.org$apache$spark$deploy$SparkSubmit$$runMain(SparkSubmit.scala:782)\n",
      "\tat org.apache.spark.deploy.SparkSubmit.doRunMain$1(SparkSubmit.scala:161)\n",
      "\tat org.apache.spark.deploy.SparkSubmit.submit(SparkSubmit.scala:184)\n",
      "\tat org.apache.spark.deploy.SparkSubmit.doSubmit(SparkSubmit.scala:86)\n",
      "\tat org.apache.spark.deploy.SparkSubmit$$anon$2.doSubmit(SparkSubmit.scala:928)\n",
      "\tat org.apache.spark.deploy.SparkSubmit$.main(SparkSubmit.scala:937)\n",
      "\tat org.apache.spark.deploy.SparkSubmit.main(SparkSubmit.scala)\n",
      "\n",
      "YARN Diagnostics: \n",
      "spark-submit start failed.\n",
      "\n",
      "Some things to try:\n",
      "a) Make sure Spark has enough available resources for Jupyter to create a Spark context.\n",
      "b) Contact your Jupyter administrator to make sure the Spark magics library is configured correctly.\n",
      "c) Restart the kernel.\n"
     ]
    },
    {
     "data": {
      "text/html": [
       "Current session configs: <tt>{'conf': {'spark.jars.packages': '/usr/lib/spark/jars/delta-core_2.11-0.6.1', 'spark.sql.extensions': 'io.delta.sql.DeltaSparkSessionExtension', 'spark.sql.catalog.spark_catalog': 'org.apache.spark.sql.delta.catalog.DeltaCatalog'}, 'proxyUser': 'assumed-role_FullAdmin_Indrajit_Singh2_Vodafone_com', 'kind': 'pyspark'}</tt><br>"
      ],
      "text/plain": [
       "<IPython.core.display.HTML object>"
      ]
     },
     "metadata": {},
     "output_type": "display_data"
    },
    {
     "data": {
      "text/html": [
       "<table>\n",
       "<tr><th>ID</th><th>YARN Application ID</th><th>Kind</th><th>State</th><th>Spark UI</th><th>Driver log</th><th>Current session?</th></tr><tr><td>5</td><td>None</td><td>pyspark</td><td>dead</td><td></td><td></td><td>✔</td></tr></table>"
      ],
      "text/plain": [
       "<IPython.core.display.HTML object>"
      ]
     },
     "metadata": {},
     "output_type": "display_data"
    }
   ],
   "source": [
    "%%configure -f\n",
    "{\n",
    "    \"conf\":{\n",
    "        \"spark.jars.packages\": \"/usr/lib/spark/jars/delta-core_2.11-0.6.1\",\n",
    "        \"spark.sql.extensions\": \"io.delta.sql.DeltaSparkSessionExtension\",\n",
    "        \"spark.sql.catalog.spark_catalog\": \"org.apache.spark.sql.delta.catalog.DeltaCatalog\"\n",
    "    }\n",
    "}"
   ]
  },
  {
   "cell_type": "code",
   "execution_count": 65,
   "id": "3e8aea86",
   "metadata": {},
   "outputs": [
    {
     "data": {
      "application/vnd.jupyter.widget-view+json": {
       "model_id": "e9cc14a98ffa4de3a3038e03f1356620",
       "version_major": 2,
       "version_minor": 0
      },
      "text/plain": [
       "VBox()"
      ]
     },
     "metadata": {},
     "output_type": "display_data"
    },
    {
     "data": {
      "application/vnd.jupyter.widget-view+json": {
       "model_id": "",
       "version_major": 2,
       "version_minor": 0
      },
      "text/plain": [
       "FloatProgress(value=0.0, bar_style='info', description='Progress:', layout=Layout(height='25px', width='50%'),…"
      ]
     },
     "metadata": {},
     "output_type": "display_data"
    }
   ],
   "source": [
    "df=spark.read.format(\"csv\").option(\"header\",\"true\").option(\"inferSchema\",\"true\").load(\"s3://deltalake-emr/source-landing/products.csv\")"
   ]
  },
  {
   "cell_type": "code",
   "execution_count": 66,
   "id": "49be2e7f",
   "metadata": {},
   "outputs": [
    {
     "data": {
      "application/vnd.jupyter.widget-view+json": {
       "model_id": "c90c56a232434637814110769056cd58",
       "version_major": 2,
       "version_minor": 0
      },
      "text/plain": [
       "VBox()"
      ]
     },
     "metadata": {},
     "output_type": "display_data"
    },
    {
     "data": {
      "application/vnd.jupyter.widget-view+json": {
       "model_id": "",
       "version_major": 2,
       "version_minor": 0
      },
      "text/plain": [
       "FloatProgress(value=0.0, bar_style='info', description='Progress:', layout=Layout(height='25px', width='50%'),…"
      ]
     },
     "metadata": {},
     "output_type": "display_data"
    }
   ],
   "source": [
    "spark = SparkSession \\\n",
    "        .builder \\\n",
    "        .appName(\"DeltaLake\") \\\n",
    "        .config(\"spark.jars\", \"/usr/lib/spark/jars/delta-core_2.11-0.6.1\")\\\n",
    "        .config(\"spark.sql.extensions\", \"io.delta.sql.DeltaSparkSessionExtension\") \\\n",
    "        .config(\"spark.sql.catalog.spark_catalog\", \"org.apache.spark.sql.delta.catalog.DeltaCatalog\") \\\n",
    "        .getOrCreate()"
   ]
  },
  {
   "cell_type": "code",
   "execution_count": 55,
   "id": "aff2c26e",
   "metadata": {},
   "outputs": [
    {
     "data": {
      "application/vnd.jupyter.widget-view+json": {
       "model_id": "5b3eab9408dd482dbb10373a51a725f4",
       "version_major": 2,
       "version_minor": 0
      },
      "text/plain": [
       "VBox()"
      ]
     },
     "metadata": {},
     "output_type": "display_data"
    },
    {
     "data": {
      "application/vnd.jupyter.widget-view+json": {
       "model_id": "",
       "version_major": 2,
       "version_minor": 0
      },
      "text/plain": [
       "FloatProgress(value=0.0, bar_style='info', description='Progress:', layout=Layout(height='25px', width='50%'),…"
      ]
     },
     "metadata": {},
     "output_type": "display_data"
    }
   ],
   "source": [
    "spark.sparkContext.addPyFile(\"/usr/lib/spark/jars/delta-core_2.11-0.6.1.jar\")"
   ]
  },
  {
   "cell_type": "code",
   "execution_count": 4,
   "id": "f7ef9c48",
   "metadata": {},
   "outputs": [
    {
     "data": {
      "application/vnd.jupyter.widget-view+json": {
       "model_id": "97da5aac24234aacb72ce257dcfe1fa9",
       "version_major": 2,
       "version_minor": 0
      },
      "text/plain": [
       "VBox()"
      ]
     },
     "metadata": {},
     "output_type": "display_data"
    },
    {
     "data": {
      "application/vnd.jupyter.widget-view+json": {
       "model_id": "",
       "version_major": 2,
       "version_minor": 0
      },
      "text/plain": [
       "FloatProgress(value=0.0, bar_style='info', description='Progress:', layout=Layout(height='25px', width='50%'),…"
      ]
     },
     "metadata": {},
     "output_type": "display_data"
    },
    {
     "name": "stdout",
     "output_type": "stream",
     "text": [
      "+----------+--------+-----+-------------------+-------------------+\n",
      "|   product|category|price|          startdate|            enddata|\n",
      "+----------+--------+-----+-------------------+-------------------+\n",
      "|Samsung TX|  Tablet|  999|2020-01-02 01:00:00|2021-01-02 00:00:00|\n",
      "|Samsung JX|  Mobile|  799|2020-01-03 02:00:00|2021-01-03 00:00:00|\n",
      "|Redmi Note|  Mobile|  399|2020-01-04 03:00:00|2021-01-04 00:00:00|\n",
      "|        Mi|  Mobile|  299|2020-01-05 04:00:00|2021-01-05 00:00:00|\n",
      "|      iPad|  Tablet|  789|2020-01-06 05:00:00|2021-01-06 00:00:00|\n",
      "|    iPhone|  Mobile|  999|2020-01-07 06:00:00|2021-01-07 00:00:00|\n",
      "|  Micromax|  Mobile|  249|2020-01-08 07:00:00|2021-01-08 00:00:00|\n",
      "|    Lenovo|  Tablet|  499|2020-01-09 08:00:00|2021-01-09 00:00:00|\n",
      "|   OnePlus|  Mobile|  356|2020-01-10 09:00:00|2021-01-10 00:00:00|\n",
      "|        Xu|  Tablet|  267|2020-01-11 10:00:00|2021-01-11 00:00:00|\n",
      "+----------+--------+-----+-------------------+-------------------+"
     ]
    }
   ],
   "source": [
    "df.show()"
   ]
  },
  {
   "cell_type": "code",
   "execution_count": 67,
   "id": "f4838716",
   "metadata": {},
   "outputs": [
    {
     "data": {
      "application/vnd.jupyter.widget-view+json": {
       "model_id": "3d74a55f91ae4f2494d7513cb1081a58",
       "version_major": 2,
       "version_minor": 0
      },
      "text/plain": [
       "VBox()"
      ]
     },
     "metadata": {},
     "output_type": "display_data"
    },
    {
     "data": {
      "application/vnd.jupyter.widget-view+json": {
       "model_id": "",
       "version_major": 2,
       "version_minor": 0
      },
      "text/plain": [
       "FloatProgress(value=0.0, bar_style='info', description='Progress:', layout=Layout(height='25px', width='50%'),…"
      ]
     },
     "metadata": {},
     "output_type": "display_data"
    }
   ],
   "source": [
    "df.write.format(\"delta\").mode(\"overwrite\").save(\"s3://deltalake-emr/DeltaLake/\")"
   ]
  },
  {
   "cell_type": "code",
   "execution_count": 68,
   "id": "e5e49446",
   "metadata": {},
   "outputs": [
    {
     "data": {
      "application/vnd.jupyter.widget-view+json": {
       "model_id": "ddf336fa88194160b37a261153da240e",
       "version_major": 2,
       "version_minor": 0
      },
      "text/plain": [
       "VBox()"
      ]
     },
     "metadata": {},
     "output_type": "display_data"
    },
    {
     "data": {
      "application/vnd.jupyter.widget-view+json": {
       "model_id": "",
       "version_major": 2,
       "version_minor": 0
      },
      "text/plain": [
       "FloatProgress(value=0.0, bar_style='info', description='Progress:', layout=Layout(height='25px', width='50%'),…"
      ]
     },
     "metadata": {},
     "output_type": "display_data"
    },
    {
     "name": "stdout",
     "output_type": "stream",
     "text": [
      "+----------+--------+-----+-------------+-------------+\n",
      "|   product|category|price|    startdate|      enddate|\n",
      "+----------+--------+-----+-------------+-------------+\n",
      "|Samsung TX|  Tablet|  999|1/2/2020 1:00|1/2/2021 0:00|\n",
      "|Samsung JX|  Mobile|  799|1/3/2020 2:00|1/3/2021 0:00|\n",
      "|Redmi Note|  Mobile|  399|1/4/2020 3:00|1/4/2021 0:00|\n",
      "|        Mi|  Mobile|  299|1/5/2020 4:00|1/5/2021 0:00|\n",
      "|      iPad|  Tablet|  789|1/6/2020 5:00|1/6/2021 0:00|\n",
      "+----------+--------+-----+-------------+-------------+\n",
      "only showing top 5 rows"
     ]
    }
   ],
   "source": [
    "delta_df=spark.read.format(\"delta\").load(\"s3://deltalake-emr/DeltaLake/\").show(5)"
   ]
  },
  {
   "cell_type": "markdown",
   "id": "9f91fd1d",
   "metadata": {},
   "source": [
    "LET'S PERFORM SCD1. READ THE 1ST DELTA FILE "
   ]
  },
  {
   "cell_type": "code",
   "execution_count": 69,
   "id": "d4e8c70c",
   "metadata": {},
   "outputs": [
    {
     "data": {
      "application/vnd.jupyter.widget-view+json": {
       "model_id": "609addba2dbe4c049aa0420e1faf1e2f",
       "version_major": 2,
       "version_minor": 0
      },
      "text/plain": [
       "VBox()"
      ]
     },
     "metadata": {},
     "output_type": "display_data"
    },
    {
     "data": {
      "application/vnd.jupyter.widget-view+json": {
       "model_id": "",
       "version_major": 2,
       "version_minor": 0
      },
      "text/plain": [
       "FloatProgress(value=0.0, bar_style='info', description='Progress:', layout=Layout(height='25px', width='50%'),…"
      ]
     },
     "metadata": {},
     "output_type": "display_data"
    }
   ],
   "source": [
    "source_scd1=spark.read.format(\"csv\").option(\"header\",\"true\").option(\"inferSchema\",\"true\").load(\"s3://deltalake-emr/source-landing/product_ver1.csv\")"
   ]
  },
  {
   "cell_type": "code",
   "execution_count": 70,
   "id": "ea5fcea2",
   "metadata": {},
   "outputs": [
    {
     "data": {
      "application/vnd.jupyter.widget-view+json": {
       "model_id": "1edae816d5a74e9cb716079843fcd50b",
       "version_major": 2,
       "version_minor": 0
      },
      "text/plain": [
       "VBox()"
      ]
     },
     "metadata": {},
     "output_type": "display_data"
    },
    {
     "data": {
      "application/vnd.jupyter.widget-view+json": {
       "model_id": "",
       "version_major": 2,
       "version_minor": 0
      },
      "text/plain": [
       "FloatProgress(value=0.0, bar_style='info', description='Progress:', layout=Layout(height='25px', width='50%'),…"
      ]
     },
     "metadata": {},
     "output_type": "display_data"
    },
    {
     "name": "stdout",
     "output_type": "stream",
     "text": [
      "+----------+--------+-----+\n",
      "|   product|category|price|\n",
      "+----------+--------+-----+\n",
      "|Samsung TX|  Tablet| 1010|\n",
      "|Redmi Note|  Mobile| 2000|\n",
      "|        Mi|  Mobile| 3000|\n",
      "|      iPad|  Tablet| 4000|\n",
      "|    iPhone|  Mobile| 5000|\n",
      "+----------+--------+-----+"
     ]
    }
   ],
   "source": [
    "source_scd1.show()"
   ]
  },
  {
   "cell_type": "markdown",
   "id": "8315e775",
   "metadata": {},
   "source": [
    "LETS ADD TIMESTAMP TO THE DATAFRAME"
   ]
  },
  {
   "cell_type": "code",
   "execution_count": 138,
   "id": "2a0e4704",
   "metadata": {},
   "outputs": [
    {
     "data": {
      "application/vnd.jupyter.widget-view+json": {
       "model_id": "800b1488cd8443ddb50bd18e93d00108",
       "version_major": 2,
       "version_minor": 0
      },
      "text/plain": [
       "VBox()"
      ]
     },
     "metadata": {},
     "output_type": "display_data"
    },
    {
     "data": {
      "application/vnd.jupyter.widget-view+json": {
       "model_id": "",
       "version_major": 2,
       "version_minor": 0
      },
      "text/plain": [
       "FloatProgress(value=0.0, bar_style='info', description='Progress:', layout=Layout(height='25px', width='50%'),…"
      ]
     },
     "metadata": {},
     "output_type": "display_data"
    }
   ],
   "source": [
    "from pyspark.sql.functions import *\n",
    "scd1_df=source_scd1\\\n",
    ".withColumn(\"startdate\",date_format(current_timestamp(),'yyyy-MM-dd HH:mm:ss'))\\\n",
    ".withColumn(\"enddate\",to_timestamp(lit(\"9999-12-31 00:00:00\"),'yyyy-MM-dd HH:mm:ss'))"
   ]
  },
  {
   "cell_type": "code",
   "execution_count": 72,
   "id": "6848464c",
   "metadata": {},
   "outputs": [
    {
     "data": {
      "application/vnd.jupyter.widget-view+json": {
       "model_id": "1a156112c7344cb8a306da72fe0a790f",
       "version_major": 2,
       "version_minor": 0
      },
      "text/plain": [
       "VBox()"
      ]
     },
     "metadata": {},
     "output_type": "display_data"
    },
    {
     "data": {
      "application/vnd.jupyter.widget-view+json": {
       "model_id": "",
       "version_major": 2,
       "version_minor": 0
      },
      "text/plain": [
       "FloatProgress(value=0.0, bar_style='info', description='Progress:', layout=Layout(height='25px', width='50%'),…"
      ]
     },
     "metadata": {},
     "output_type": "display_data"
    },
    {
     "name": "stdout",
     "output_type": "stream",
     "text": [
      "+----------+--------+-----+-------------------+-------------------+\n",
      "|   product|category|price|          startdate|            enddate|\n",
      "+----------+--------+-----+-------------------+-------------------+\n",
      "|Samsung TX|  Tablet| 1010|2021-10-03 19:31:30|9999-12-31 00:00:00|\n",
      "|Redmi Note|  Mobile| 2000|2021-10-03 19:31:30|9999-12-31 00:00:00|\n",
      "|        Mi|  Mobile| 3000|2021-10-03 19:31:30|9999-12-31 00:00:00|\n",
      "|      iPad|  Tablet| 4000|2021-10-03 19:31:30|9999-12-31 00:00:00|\n",
      "|    iPhone|  Mobile| 5000|2021-10-03 19:31:30|9999-12-31 00:00:00|\n",
      "+----------+--------+-----+-------------------+-------------------+"
     ]
    }
   ],
   "source": [
    "scd1_df.show()"
   ]
  },
  {
   "cell_type": "markdown",
   "id": "3149466d",
   "metadata": {},
   "source": [
    "read DELTA table and update as SCD1(upsert)"
   ]
  },
  {
   "cell_type": "code",
   "execution_count": 73,
   "id": "a63472ca",
   "metadata": {},
   "outputs": [
    {
     "data": {
      "application/vnd.jupyter.widget-view+json": {
       "model_id": "0bc8bd39bf5f458ab0b151874ee116cb",
       "version_major": 2,
       "version_minor": 0
      },
      "text/plain": [
       "VBox()"
      ]
     },
     "metadata": {},
     "output_type": "display_data"
    },
    {
     "data": {
      "application/vnd.jupyter.widget-view+json": {
       "model_id": "",
       "version_major": 2,
       "version_minor": 0
      },
      "text/plain": [
       "FloatProgress(value=0.0, bar_style='info', description='Progress:', layout=Layout(height='25px', width='50%'),…"
      ]
     },
     "metadata": {},
     "output_type": "display_data"
    }
   ],
   "source": [
    "from delta import *\n",
    "from delta.tables import *\n",
    "DELTA_TABLE= DeltaTable.forPath(spark, 's3://deltalake-emr/DeltaLake/')"
   ]
  },
  {
   "cell_type": "code",
   "execution_count": 74,
   "id": "5bca2012",
   "metadata": {},
   "outputs": [
    {
     "data": {
      "application/vnd.jupyter.widget-view+json": {
       "model_id": "daacab0cc1f14d47b5e6a3831a4478a9",
       "version_major": 2,
       "version_minor": 0
      },
      "text/plain": [
       "VBox()"
      ]
     },
     "metadata": {},
     "output_type": "display_data"
    },
    {
     "data": {
      "application/vnd.jupyter.widget-view+json": {
       "model_id": "",
       "version_major": 2,
       "version_minor": 0
      },
      "text/plain": [
       "FloatProgress(value=0.0, bar_style='info', description='Progress:', layout=Layout(height='25px', width='50%'),…"
      ]
     },
     "metadata": {},
     "output_type": "display_data"
    }
   ],
   "source": [
    "DELTA_TABLE.alias(\"baseload\").merge(\n",
    "           scd1_df.alias(\"newdata\"),\n",
    "           \"baseload.product=newdata.product\"\n",
    "           ).whenMatchedUpdateAll().whenNotMatchedInsertAll().execute()"
   ]
  },
  {
   "cell_type": "markdown",
   "id": "512498c2",
   "metadata": {},
   "source": [
    "let's verify if data has been updated or not"
   ]
  },
  {
   "cell_type": "code",
   "execution_count": 80,
   "id": "c321451c",
   "metadata": {},
   "outputs": [
    {
     "data": {
      "application/vnd.jupyter.widget-view+json": {
       "model_id": "277d6ca340e944f6ad47f5d59dbbc1e2",
       "version_major": 2,
       "version_minor": 0
      },
      "text/plain": [
       "VBox()"
      ]
     },
     "metadata": {},
     "output_type": "display_data"
    },
    {
     "data": {
      "application/vnd.jupyter.widget-view+json": {
       "model_id": "",
       "version_major": 2,
       "version_minor": 0
      },
      "text/plain": [
       "FloatProgress(value=0.0, bar_style='info', description='Progress:', layout=Layout(height='25px', width='50%'),…"
      ]
     },
     "metadata": {},
     "output_type": "display_data"
    },
    {
     "name": "stdout",
     "output_type": "stream",
     "text": [
      "+----------+--------+-----+-------------------+-------------------+\n",
      "|   product|category|price|          startdate|            enddate|\n",
      "+----------+--------+-----+-------------------+-------------------+\n",
      "|Samsung TX|  Tablet| 1010|2021-10-03 19:31:42|9999-12-31 00:00:00|\n",
      "|Redmi Note|  Mobile| 2000|2021-10-03 19:31:42|9999-12-31 00:00:00|\n",
      "|      iPad|  Tablet| 4000|2021-10-03 19:31:42|9999-12-31 00:00:00|\n",
      "|    iPhone|  Mobile| 5000|2021-10-03 19:31:42|9999-12-31 00:00:00|\n",
      "|Samsung JX|  Mobile|  799|      1/3/2020 2:00|      1/3/2021 0:00|\n",
      "|        Mi|  Mobile| 3000|2021-10-03 19:31:42|9999-12-31 00:00:00|\n",
      "|  Micromax|  Mobile|  249|      1/8/2020 7:00|      1/8/2021 0:00|\n",
      "|   OnePlus|  Mobile|  356|     1/10/2020 9:00|     1/10/2021 0:00|\n",
      "|        Xu|  Tablet|  267|    1/11/2020 10:00|     1/11/2021 0:00|\n",
      "|    Lenovo|  Tablet|  499|      1/9/2020 8:00|      1/9/2021 0:00|\n",
      "+----------+--------+-----+-------------------+-------------------+"
     ]
    }
   ],
   "source": [
    "full_snapshot=spark.read.format(\"delta\").load(\"s3://deltalake-emr/DeltaLake/\")\n",
    "spark.read.format(\"delta\").load(\"s3://deltalake-emr/DeltaLake/\").show()"
   ]
  },
  {
   "cell_type": "markdown",
   "id": "b4dbcaeb",
   "metadata": {},
   "source": [
    "we can confirm that data is successfully updated. Now let's perform scd2.for that let's read another file and see the contents of that file."
   ]
  },
  {
   "cell_type": "code",
   "execution_count": 129,
   "id": "1c0fd705",
   "metadata": {},
   "outputs": [
    {
     "data": {
      "application/vnd.jupyter.widget-view+json": {
       "model_id": "2299f8a7f81746b1b49e4eff07eb4fdf",
       "version_major": 2,
       "version_minor": 0
      },
      "text/plain": [
       "VBox()"
      ]
     },
     "metadata": {},
     "output_type": "display_data"
    },
    {
     "data": {
      "application/vnd.jupyter.widget-view+json": {
       "model_id": "",
       "version_major": 2,
       "version_minor": 0
      },
      "text/plain": [
       "FloatProgress(value=0.0, bar_style='info', description='Progress:', layout=Layout(height='25px', width='50%'),…"
      ]
     },
     "metadata": {},
     "output_type": "display_data"
    }
   ],
   "source": [
    "source_scd2=spark.read.format(\"csv\").option(\"header\",\"true\").option(\"inferSchema\",\"true\").load(\"s3://deltalake-emr/source-landing/product_ver2.csv\")"
   ]
  },
  {
   "cell_type": "code",
   "execution_count": 100,
   "id": "619e07ea",
   "metadata": {},
   "outputs": [
    {
     "data": {
      "application/vnd.jupyter.widget-view+json": {
       "model_id": "b91106bf63284d93840070679469c957",
       "version_major": 2,
       "version_minor": 0
      },
      "text/plain": [
       "VBox()"
      ]
     },
     "metadata": {},
     "output_type": "display_data"
    },
    {
     "data": {
      "application/vnd.jupyter.widget-view+json": {
       "model_id": "",
       "version_major": 2,
       "version_minor": 0
      },
      "text/plain": [
       "FloatProgress(value=0.0, bar_style='info', description='Progress:', layout=Layout(height='25px', width='50%'),…"
      ]
     },
     "metadata": {},
     "output_type": "display_data"
    },
    {
     "name": "stdout",
     "output_type": "stream",
     "text": [
      "+----------+--------+-----+\n",
      "|   product|category|price|\n",
      "+----------+--------+-----+\n",
      "|Samsung TX|  Tablet| 1010|\n",
      "|      iPad|  Tablet| 4000|\n",
      "|    iPhone|  Mobile| 5000|\n",
      "+----------+--------+-----+"
     ]
    }
   ],
   "source": [
    "source_scd2.show()\n"
   ]
  },
  {
   "cell_type": "code",
   "execution_count": 158,
   "id": "2f2d32c6",
   "metadata": {},
   "outputs": [
    {
     "data": {
      "application/vnd.jupyter.widget-view+json": {
       "model_id": "622f0eef6b72491fbec6af32f4cff071",
       "version_major": 2,
       "version_minor": 0
      },
      "text/plain": [
       "VBox()"
      ]
     },
     "metadata": {},
     "output_type": "display_data"
    },
    {
     "data": {
      "application/vnd.jupyter.widget-view+json": {
       "model_id": "",
       "version_major": 2,
       "version_minor": 0
      },
      "text/plain": [
       "FloatProgress(value=0.0, bar_style='info', description='Progress:', layout=Layout(height='25px', width='50%'),…"
      ]
     },
     "metadata": {},
     "output_type": "display_data"
    }
   ],
   "source": [
    "scd2_df=source_scd2\\\n",
    ".withColumn(\"startdate\",date_format(current_timestamp(),'yyyy-MM-dd HH:mm:ss'))\\\n",
    ".withColumn(\"enddate\",to_timestamp(lit(\"9999-12-31 00:00:00\"),'yyyy-MM-dd HH:mm:ss'))"
   ]
  },
  {
   "cell_type": "code",
   "execution_count": 159,
   "id": "3301c757",
   "metadata": {},
   "outputs": [
    {
     "data": {
      "application/vnd.jupyter.widget-view+json": {
       "model_id": "be725c6af511400ebff90076769e3f13",
       "version_major": 2,
       "version_minor": 0
      },
      "text/plain": [
       "VBox()"
      ]
     },
     "metadata": {},
     "output_type": "display_data"
    },
    {
     "data": {
      "application/vnd.jupyter.widget-view+json": {
       "model_id": "",
       "version_major": 2,
       "version_minor": 0
      },
      "text/plain": [
       "FloatProgress(value=0.0, bar_style='info', description='Progress:', layout=Layout(height='25px', width='50%'),…"
      ]
     },
     "metadata": {},
     "output_type": "display_data"
    },
    {
     "name": "stdout",
     "output_type": "stream",
     "text": [
      "+----------+--------+-----+-------------------+-------------------+\n",
      "|   product|category|price|          startdate|            enddate|\n",
      "+----------+--------+-----+-------------------+-------------------+\n",
      "|Samsung TX|  Tablet| 1010|2021-10-03 20:51:02|9999-12-31 00:00:00|\n",
      "|      iPad|  Tablet| 4000|2021-10-03 20:51:02|9999-12-31 00:00:00|\n",
      "|    iPhone|  Mobile| 5000|2021-10-03 20:51:02|9999-12-31 00:00:00|\n",
      "|      Moto|  Mobile| 7000|2021-10-03 20:51:02|9999-12-31 00:00:00|\n",
      "|    lenovo|  Tablet| 9000|2021-10-03 20:51:02|9999-12-31 00:00:00|\n",
      "+----------+--------+-----+-------------------+-------------------+"
     ]
    }
   ],
   "source": [
    "scd2_df.show()"
   ]
  },
  {
   "cell_type": "code",
   "execution_count": 208,
   "id": "fedf4f34",
   "metadata": {},
   "outputs": [
    {
     "data": {
      "application/vnd.jupyter.widget-view+json": {
       "model_id": "c737ad3bd03f40f2b6c52039daabe67a",
       "version_major": 2,
       "version_minor": 0
      },
      "text/plain": [
       "VBox()"
      ]
     },
     "metadata": {},
     "output_type": "display_data"
    },
    {
     "data": {
      "application/vnd.jupyter.widget-view+json": {
       "model_id": "",
       "version_major": 2,
       "version_minor": 0
      },
      "text/plain": [
       "FloatProgress(value=0.0, bar_style='info', description='Progress:', layout=Layout(height='25px', width='50%'),…"
      ]
     },
     "metadata": {},
     "output_type": "display_data"
    },
    {
     "name": "stdout",
     "output_type": "stream",
     "text": [
      "+----------+--------+-----+-------------------+-------------------+----------+\n",
      "|   product|category|price|          startdate|            enddate|  mergeKey|\n",
      "+----------+--------+-----+-------------------+-------------------+----------+\n",
      "|Samsung TX|  Tablet| 1010|2021-10-03 21:24:56|9999-12-31 00:00:00|Samsung TX|\n",
      "|      iPad|  Tablet| 4000|2021-10-03 21:24:56|9999-12-31 00:00:00|      iPad|\n",
      "|    iPhone|  Mobile| 5000|2021-10-03 21:24:56|9999-12-31 00:00:00|    iPhone|\n",
      "|Samsung TX|  Tablet| 1010|2021-10-03 21:24:56|9999-12-31 00:00:00|      null|\n",
      "|      iPad|  Tablet| 4000|2021-10-03 21:24:56|9999-12-31 00:00:00|      null|\n",
      "|    iPhone|  Mobile| 5000|2021-10-03 21:24:56|9999-12-31 00:00:00|      null|\n",
      "|      Moto|  Mobile| 7000|2021-10-03 21:24:56|9999-12-31 00:00:00|      null|\n",
      "|    lenovo|  Tablet| 9000|2021-10-03 21:24:56|9999-12-31 00:00:00|      null|\n",
      "+----------+--------+-----+-------------------+-------------------+----------+"
     ]
    }
   ],
   "source": [
    "import pyspark.sql.types as types\n",
    "                                            ##records that need to be closed\n",
    "scd2_df.join(full_snapshot,\"product\",\"leftsemi\")\\\n",
    ".withColumn(\"mergeKey\",source_scd2.product)\\\n",
    ".union(                                    ##records that are existing but need to be inserted with new start date\n",
    "   scd2_df.join(full_snapshot,\"product\",\"leftsemi\")\\\n",
    ".selectExpr(\"*\",\"NULL as mergeKey\")\\\n",
    ").union (                                   ##record that are new \n",
    "scd2_df.join(full_snapshot,\"product\",\"leftanti\").withColumn(\"mergeKey\",lit(None).cast(types.StringType()))\n",
    ").show()"
   ]
  },
  {
   "cell_type": "code",
   "execution_count": 174,
   "id": "1e7bfa13",
   "metadata": {},
   "outputs": [
    {
     "data": {
      "application/vnd.jupyter.widget-view+json": {
       "model_id": "4267383bd59a499e850b1627c80c6541",
       "version_major": 2,
       "version_minor": 0
      },
      "text/plain": [
       "VBox()"
      ]
     },
     "metadata": {},
     "output_type": "display_data"
    },
    {
     "data": {
      "application/vnd.jupyter.widget-view+json": {
       "model_id": "",
       "version_major": 2,
       "version_minor": 0
      },
      "text/plain": [
       "FloatProgress(value=0.0, bar_style='info', description='Progress:', layout=Layout(height='25px', width='50%'),…"
      ]
     },
     "metadata": {},
     "output_type": "display_data"
    },
    {
     "name": "stdout",
     "output_type": "stream",
     "text": [
      "+-------+--------+-----+-------------------+-------------------+\n",
      "|product|category|price|          startdate|            enddate|\n",
      "+-------+--------+-----+-------------------+-------------------+\n",
      "|   Moto|  Mobile| 7000|2021-10-03 21:03:01|9999-12-31 00:00:00|\n",
      "| lenovo|  Tablet| 9000|2021-10-03 21:03:01|9999-12-31 00:00:00|\n",
      "+-------+--------+-----+-------------------+-------------------+"
     ]
    }
   ],
   "source": []
  },
  {
   "cell_type": "code",
   "execution_count": null,
   "id": "a8d0cc42",
   "metadata": {},
   "outputs": [],
   "source": []
  }
 ],
 "metadata": {
  "kernelspec": {
   "display_name": "PySpark",
   "language": "",
   "name": "pysparkkernel"
  },
  "language_info": {
   "codemirror_mode": {
    "name": "python",
    "version": 3
   },
   "mimetype": "text/x-python",
   "name": "pyspark",
   "pygments_lexer": "python3"
  }
 },
 "nbformat": 4,
 "nbformat_minor": 5
}
